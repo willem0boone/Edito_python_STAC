{
 "cells": [
  {
   "cell_type": "code",
   "execution_count": 2,
   "metadata": {},
   "outputs": [
    {
     "name": "stderr",
     "output_type": "stream",
     "text": [
      "/home/samwork/Documents/coding/Edito_python_STAC/.venv/lib/python3.10/site-packages/tqdm/auto.py:21: TqdmWarning: IProgress not found. Please update jupyter and ipywidgets. See https://ipywidgets.readthedocs.io/en/stable/user_install.html\n",
      "  from .autonotebook import tqdm as notebook_tqdm\n"
     ]
    }
   ],
   "source": [
    "import pystac\n",
    "import xarray as xr\n",
    "import pandas as pd\n",
    "from datetime import datetime, date\n",
    "from pystac_client import Client\n",
    "import numpy as np\n",
    "import copernicusmarine\n",
    "from copernicusmarine.core_functions import custom_open_zarr\n",
    "\n"
   ]
  },
  {
   "cell_type": "markdown",
   "metadata": {},
   "source": [
    "### Open the root catalog\n",
    "\n",
    "Use pystac-client to connect to a STAC API endpoint (https://catalog.dive.edito.eu/).  We can also connect to a static STAC json catalog, that conforms to STAC and view modelled data from Bio-Oracle.  Also available in Zarr format."
   ]
  },
  {
   "cell_type": "code",
   "execution_count": 3,
   "metadata": {},
   "outputs": [
    {
     "data": {
      "text/html": [
       "&lt;Client id=catalogs&gt;"
      ],
      "text/plain": [
       "<Client id=catalogs>"
      ]
     },
     "execution_count": 3,
     "metadata": {},
     "output_type": "execute_result"
    }
   ],
   "source": [
    "# STAC API root URL\n",
    "URL = 'https://catalog.dive.edito.eu'\n",
    "# URL = 'https://s3.waw3-1.cloudferro.com/emodnet/bio_oracle/stac/catalog.json'\n",
    "# custom headers\n",
    "headers = []\n",
    "\n",
    "cat = Client.open(URL, headers=headers)\n",
    "cat"
   ]
  },
  {
   "cell_type": "markdown",
   "metadata": {},
   "source": [
    "### Browse the Catalog\n",
    "Navigate through the root catalog to find sub-catalogs and collections of interest\n"
   ]
  },
  {
   "cell_type": "code",
   "execution_count": 4,
   "metadata": {},
   "outputs": [
    {
     "name": "stderr",
     "output_type": "stream",
     "text": [
      "/home/samwork/Documents/coding/Edito_python_STAC/.venv/lib/python3.10/site-packages/pystac_client/client.py:440: FallbackToPystac: Falling back to pystac. This might be slow.\n",
      "  self._warn_about_fallback(\"COLLECTIONS\", \"FEATURES\")\n"
     ]
    },
    {
     "name": "stdout",
     "output_type": "stream",
     "text": [
      "Found 9690 collections\n",
      "emodnet-deepest_values_of_water_body_chlorophyll_a\n",
      "6a886250-2dff-53e6-8bcb-a99d6ff851b6\n",
      "{'native_asset': <Asset href=https://s3.waw3-1.cloudferro.com/emodnet/emodnet_native/emodnet_chemistry/water_body_chlorophyll_a/water_body_chlorophyll_a_masked_using_relative_error_threshold_0.3_northeast_atlantic_ocean/Water_body_chlorophyll-a.4Danl.nc>, 'metadata_csw': <Asset href=https://emodnet.ec.europa.eu/geonetwork/emodnet/eng/csw?request=GetRecordById&service=CSW&version=2.0.2&elementSetName=full&id=a3461fb1-d209-440e-a49f-7acff7731395>, 'metadata_xml': <Asset href=https://emodnet.ec.europa.eu/geonetwork/srv/api/records/a3461fb1-d209-440e-a49f-7acff7731395/formatters/xml>, 'Zarr': <Asset href=https://s3.waw3-1.cloudferro.com/emodnet/emodnet_arco/emodnet_chemistry/water_body_chlorophyll_a/deepest_values_of_water_body_chlorophyll_a_northeast_atlantic_ocean/Water_body_chlorophyll-a.4Danl.zarr>, 'wms': <Asset href=https://ec.oceanbrowser.net/emodnet/Python/web/wms?service=WMS&REQUEST=GetMap&VERSION=1.3.0&LAYERS=By_sea_regions/Northeast_Atlantic_Ocean/Water_body_chlorophyll-a.4Danl.nc*Water_body_chlorophyll-a_deepest&STYLES=pcolor_flat&CRS=CRS:84&BBOX=-42.1,24.9,-0.05,47.95&WIDTH=800&HEIGHT=600&FORMAT=image/png>, 'Zarr-datalab-data-explorer': <Asset href=https://datalab.dive.edito.eu/data-explorer?source=https://s3.waw3-1.cloudferro.com/emodnet/emodnet_arco/emodnet_chemistry/water_body_chlorophyll_a/deepest_values_of_water_body_chlorophyll_a_northeast_atlantic_ocean/Water_body_chlorophyll-a.4Danl.zarr>}\n",
      "climate_forecast-mass_concentration_of_biological_taxon_expressed_as_chlorophyll_in_sea_water\n",
      "climate_forecast-mass_concentration_of_calcareous_phytoplankton_expressed_as_chlorophyll_in_sea_water\n",
      "climate_forecast-mass_concentration_of_chlorophyll_a_in_sea_floor_sediment\n",
      "climate_forecast-mass_concentration_of_chlorophyll_a_in_sea_ice\n",
      "climate_forecast-mass_concentration_of_chlorophyll_a_in_sea_water\n",
      "ad1a8fdd-49d3-5b1d-98d1-44a305fca9de\n",
      "{'arco-time-series': <Asset href=https://s3.waw3-1.cloudferro.com/mdl-arco-geo-044/arco/OCEANCOLOUR_GLO_BGC_L4_NRT_009_102/cmems_obs-oc_glo_bgc-plankton_nrt_l4-gapfree-multi-4km_P1D_202311/geoChunked.zarr>, 'arco-time-series-datalab-data-explorer': <Asset href=https://datalab.dive.edito.eu/data-explorer?source=https://s3.waw3-1.cloudferro.com/mdl-arco-geo-044/arco/OCEANCOLOUR_GLO_BGC_L4_NRT_009_102/cmems_obs-oc_glo_bgc-plankton_nrt_l4-gapfree-multi-4km_P1D_202311/geoChunked.zarr>}\n",
      "climate_forecast-mass_concentration_of_chlorophyll_b_in_sea_water\n",
      "climate_forecast-mass_concentration_of_chlorophyll_c_in_sea_water\n",
      "climate_forecast-mass_concentration_of_chlorophyll_c1_and_chlorophyll_c2_in_sea_water\n",
      "climate_forecast-mass_concentration_of_chlorophyll_c3_in_sea_water\n",
      "climate_forecast-mass_concentration_of_chlorophyll_c4_in_sea_water\n",
      "climate_forecast-mass_concentration_of_chlorophyll_in_sea_water\n",
      "59afc1f2-24a0-5087-8609-a2374dc6ae08\n",
      "{'arco-time-series': <Asset href=https://s3.waw3-1.cloudferro.com/mdl-arco-geo-060/arco/INSITU_NWS_PHYBGCWAV_DISCRETE_MYNRT_013_036/cmems_obs-ins_nws_phybgcwav_mynrt_na_irr_202311--ext--latest/geoChunked>}\n",
      "climate_forecast-mass_concentration_of_chlorophyllide_a_in_sea_water\n",
      "climate_forecast-mass_concentration_of_diatoms_expressed_as_chlorophyll_in_sea_water\n",
      "d4d9e7c1-c664-560c-8274-cd1efd89b47d\n",
      "{'arco-time-series': <Asset href=https://s3.waw3-1.cloudferro.com/mdl-arco-geo-043/arco/OCEANCOLOUR_GLO_BGC_L3_NRT_009_101/cmems_obs-oc_glo_bgc-plankton_nrt_l3-multi-4km_P1D_202311/geoChunked.zarr>, 'arco-time-series-datalab-data-explorer': <Asset href=https://datalab.dive.edito.eu/data-explorer?source=https://s3.waw3-1.cloudferro.com/mdl-arco-geo-043/arco/OCEANCOLOUR_GLO_BGC_L3_NRT_009_101/cmems_obs-oc_glo_bgc-plankton_nrt_l3-multi-4km_P1D_202311/geoChunked.zarr>}\n",
      "climate_forecast-mass_concentration_of_diazotrophic_phytoplankton_expressed_as_chlorophyll_in_sea_water\n",
      "climate_forecast-mass_concentration_of_divinyl_chlorophyll_a_in_sea_water\n",
      "climate_forecast-mass_concentration_of_microphytoplankton_expressed_as_chlorophyll_in_sea_water\n",
      "16d9dc55-660e-5e06-9a2e-237f16f8957c\n",
      "{'arco-time-series': <Asset href=https://s3.waw3-1.cloudferro.com/mdl-arco-geo-043/arco/OCEANCOLOUR_GLO_BGC_L3_NRT_009_101/cmems_obs-oc_glo_bgc-plankton_nrt_l3-multi-4km_P1D_202311/geoChunked.zarr>, 'arco-time-series-datalab-data-explorer': <Asset href=https://datalab.dive.edito.eu/data-explorer?source=https://s3.waw3-1.cloudferro.com/mdl-arco-geo-043/arco/OCEANCOLOUR_GLO_BGC_L3_NRT_009_101/cmems_obs-oc_glo_bgc-plankton_nrt_l3-multi-4km_P1D_202311/geoChunked.zarr>}\n",
      "climate_forecast-mass_concentration_of_miscellaneous_phytoplankton_expressed_as_chlorophyll_in_sea_water\n",
      "climate_forecast-mass_concentration_of_monovinyl_chlorophyll_a_in_sea_water\n",
      "climate_forecast-mass_concentration_of_nanophytoplankton_expressed_as_chlorophyll_in_sea_water\n",
      "c43cdc44-1693-5efb-ab47-90dbc0561e8a\n",
      "{'arco-time-series': <Asset href=https://s3.waw3-1.cloudferro.com/mdl-arco-geo-043/arco/OCEANCOLOUR_GLO_BGC_L3_NRT_009_101/cmems_obs-oc_glo_bgc-plankton_nrt_l3-multi-4km_P1D_202311/geoChunked.zarr>, 'arco-time-series-datalab-data-explorer': <Asset href=https://datalab.dive.edito.eu/data-explorer?source=https://s3.waw3-1.cloudferro.com/mdl-arco-geo-043/arco/OCEANCOLOUR_GLO_BGC_L3_NRT_009_101/cmems_obs-oc_glo_bgc-plankton_nrt_l3-multi-4km_P1D_202311/geoChunked.zarr>}\n",
      "climate_forecast-mass_concentration_of_phytoplankton_expressed_as_chlorophyll_in_sea_water\n",
      "climate_forecast-mass_concentration_of_picophytoplankton_expressed_as_chlorophyll_in_sea_water\n",
      "78e82bb6-eada-50d8-8aa6-1bb44bf9a045\n",
      "{'arco-time-series': <Asset href=https://s3.waw3-1.cloudferro.com/mdl-arco-geo-043/arco/OCEANCOLOUR_GLO_BGC_L3_NRT_009_101/cmems_obs-oc_glo_bgc-plankton_nrt_l3-multi-4km_P1D_202311/geoChunked.zarr>, 'arco-time-series-datalab-data-explorer': <Asset href=https://datalab.dive.edito.eu/data-explorer?source=https://s3.waw3-1.cloudferro.com/mdl-arco-geo-043/arco/OCEANCOLOUR_GLO_BGC_L3_NRT_009_101/cmems_obs-oc_glo_bgc-plankton_nrt_l3-multi-4km_P1D_202311/geoChunked.zarr>}\n",
      "climate_forecast-mass_fraction_of_chlorophyll_a_in_sea_water\n",
      "emodnet-water_body_chlorophyll\n",
      "emodnet-water_body_chlorophyll_a\n",
      "3b050a64-ff4c-58b6-bb4f-828812505d3c\n",
      "{'native_asset': <Asset href=https://s3.waw3-1.cloudferro.com/emodnet/emodnet_native/emodnet_chemistry/water_body_chlorophyll_a/deepest_values_of_water_body_chlorophyll_a_baltic_sea_gulf_of_riga/Water_body_chlorophyll-a.nc>, 'metadata_csw': <Asset href=https://emodnet.ec.europa.eu/geonetwork/emodnet/eng/csw?request=GetRecordById&service=CSW&version=2.0.2&elementSetName=full&id=eea90fe0-0753-4d90-8c03-45d47627c2e4>, 'metadata_xml': <Asset href=https://emodnet.ec.europa.eu/geonetwork/srv/api/records/eea90fe0-0753-4d90-8c03-45d47627c2e4/formatters/xml>, 'wms': <Asset href=https://ec.oceanbrowser.net/emodnet/Python/web/wms?service=WMS&REQUEST=GetMap&VERSION=1.3.0&LAYERS=Coastal_areas/Baltic_Sea_-_Gulf_of_Riga/Water_body_chlorophyll-a.nc*Water_body_chlorophyll-a_L1&STYLES=pcolor_flat&CRS=CRS:84&BBOX=22.2,56.7,25.05,58.45&WIDTH=800&HEIGHT=600&FORMAT=image/png>, 'Water Body Chlorophyll A: Masked Using Relative Error Threshold 0.3 Baltic Sea (Gulf of Riga) data product': <Asset href=https://sextant.ifremer.fr/geonetwork/srv/api/records/eea90fe0-0753-4d90-8c03-45d47627c2e4/attachments/Water%20body%20chlorophyll-a_01_002.png>}\n",
      "emodnet-water_body_chlorophyll_a_deepest\n",
      "6f27dd0e-cdcb-51c2-b57d-adbc104fdf4d\n",
      "{'native_asset': <Asset href=https://s3.waw3-1.cloudferro.com/emodnet/emodnet_native/emodnet_chemistry/water_body_chlorophyll_a/relative_error_of_water_body_chlorophyll_a_north_sea/Water_body_chlorophyll-a.4Danl.nc>, 'metadata_csw': <Asset href=https://emodnet.ec.europa.eu/geonetwork/emodnet/eng/csw?request=GetRecordById&service=CSW&version=2.0.2&elementSetName=full&id=de582896-dd8c-413b-b9a7-1774de2e6344>, 'metadata_xml': <Asset href=https://emodnet.ec.europa.eu/geonetwork/srv/api/records/de582896-dd8c-413b-b9a7-1774de2e6344/formatters/xml>, 'Zarr': <Asset href=https://s3.waw3-1.cloudferro.com/emodnet/emodnet_arco/emodnet_chemistry/water_body_chlorophyll_a/deepest_values_of_water_body_chlorophyll_a_north_sea/Water_body_chlorophyll-a.4Danl.zarr>, 'wms': <Asset href=https://ec.oceanbrowser.net/emodnet/Python/web/wms?service=WMS&REQUEST=GetMap&VERSION=1.3.0&LAYERS=By_sea_regions/North_Sea/Water_body_chlorophyll-a.4Danl.nc*Water_body_chlorophyll-a_deepest&STYLES=pcolor_flat&CRS=CRS:84&BBOX=-20.1,46.9,25.05,63.05&WIDTH=800&HEIGHT=600&FORMAT=image/png>, 'Zarr-datalab-data-explorer': <Asset href=https://datalab.dive.edito.eu/data-explorer?source=https://s3.waw3-1.cloudferro.com/emodnet/emodnet_arco/emodnet_chemistry/water_body_chlorophyll_a/deepest_values_of_water_body_chlorophyll_a_north_sea/Water_body_chlorophyll-a.4Danl.zarr>}\n",
      "emodnet-water_body_chlorophyll_a_masked_using_relative_error_threshold_0.5\n",
      "5e84ce78-44b1-507a-87a1-45687c6df27a\n",
      "{'native_asset': <Asset href=https://s3.waw3-1.cloudferro.com/emodnet/emodnet_native/emodnet_chemistry/water_body_chlorophyll_a/relative_error_of_water_body_chlorophyll_a_black_sea/Water_body_chlorophyll-a.4Danl.nc>, 'metadata_csw': <Asset href=https://emodnet.ec.europa.eu/geonetwork/emodnet/eng/csw?request=GetRecordById&service=CSW&version=2.0.2&elementSetName=full&id=d4fa14db-81f5-4127-9425-75edc43462c3>, 'metadata_xml': <Asset href=https://emodnet.ec.europa.eu/geonetwork/srv/api/records/d4fa14db-81f5-4127-9425-75edc43462c3/formatters/xml>, 'Zarr': <Asset href=https://s3.waw3-1.cloudferro.com/emodnet/emodnet_arco/emodnet_chemistry/water_body_chlorophyll_a/water_body_chlorophyll_a_masked_using_relative_error_threshold_0.5_black_sea/Water_body_chlorophyll-a.4Danl.zarr>, 'wms': <Asset href=https://ec.oceanbrowser.net/emodnet/Python/web/wms?service=WMS&REQUEST=GetMap&VERSION=1.3.0&LAYERS=By_sea_regions/Black_Sea/Water_body_chlorophyll-a.4Danl.nc*Water_body_chlorophyll-a_L2&STYLES=pcolor_flat&CRS=CRS:84&BBOX=26.4,39.9,42.05,48.05&WIDTH=800&HEIGHT=600&FORMAT=image/png>, 'Water Body Chlorophyll A (Masked using Relative Error Threshold 0.5) - Black Sea data product': <Asset href=https://sextant.ifremer.fr/geonetwork/srv/api/records/d4fa14db-81f5-4127-9425-75edc43462c3/attachments/Water_body_chlorophyll-a_L2_in_Water_body_chlorophyll-a.4Danl.png>, 'Zarr-datalab-data-explorer': <Asset href=https://datalab.dive.edito.eu/data-explorer?source=https://s3.waw3-1.cloudferro.com/emodnet/emodnet_arco/emodnet_chemistry/water_body_chlorophyll_a/water_body_chlorophyll_a_masked_using_relative_error_threshold_0.5_black_sea/Water_body_chlorophyll-a.4Danl.zarr>}\n",
      "climate_forecast-mass_concentration_of_biological_taxon_expressed_as_chlorophyll_in_sea_water\n",
      "climate_forecast-mass_concentration_of_calcareous_phytoplankton_expressed_as_chlorophyll_in_sea_water\n",
      "climate_forecast-mass_concentration_of_chlorophyll_a_in_sea_floor_sediment\n",
      "climate_forecast-mass_concentration_of_chlorophyll_a_in_sea_ice\n",
      "climate_forecast-mass_concentration_of_chlorophyll_a_in_sea_water\n",
      "ad1a8fdd-49d3-5b1d-98d1-44a305fca9de\n",
      "{'arco-time-series': <Asset href=https://s3.waw3-1.cloudferro.com/mdl-arco-geo-044/arco/OCEANCOLOUR_GLO_BGC_L4_NRT_009_102/cmems_obs-oc_glo_bgc-plankton_nrt_l4-gapfree-multi-4km_P1D_202311/geoChunked.zarr>, 'arco-time-series-datalab-data-explorer': <Asset href=https://datalab.dive.edito.eu/data-explorer?source=https://s3.waw3-1.cloudferro.com/mdl-arco-geo-044/arco/OCEANCOLOUR_GLO_BGC_L4_NRT_009_102/cmems_obs-oc_glo_bgc-plankton_nrt_l4-gapfree-multi-4km_P1D_202311/geoChunked.zarr>}\n",
      "climate_forecast-mass_concentration_of_chlorophyll_b_in_sea_water\n",
      "climate_forecast-mass_concentration_of_chlorophyll_c1_and_chlorophyll_c2_in_sea_water\n",
      "climate_forecast-mass_concentration_of_chlorophyll_c3_in_sea_water\n",
      "climate_forecast-mass_concentration_of_chlorophyll_c4_in_sea_water\n",
      "climate_forecast-mass_concentration_of_chlorophyll_c_in_sea_water\n",
      "climate_forecast-mass_concentration_of_chlorophyllide_a_in_sea_water\n",
      "climate_forecast-mass_concentration_of_chlorophyll_in_sea_water\n",
      "59afc1f2-24a0-5087-8609-a2374dc6ae08\n",
      "{'arco-time-series': <Asset href=https://s3.waw3-1.cloudferro.com/mdl-arco-geo-060/arco/INSITU_NWS_PHYBGCWAV_DISCRETE_MYNRT_013_036/cmems_obs-ins_nws_phybgcwav_mynrt_na_irr_202311--ext--latest/geoChunked>}\n",
      "climate_forecast-mass_concentration_of_diatoms_expressed_as_chlorophyll_in_sea_water\n",
      "d4d9e7c1-c664-560c-8274-cd1efd89b47d\n",
      "{'arco-time-series': <Asset href=https://s3.waw3-1.cloudferro.com/mdl-arco-geo-043/arco/OCEANCOLOUR_GLO_BGC_L3_NRT_009_101/cmems_obs-oc_glo_bgc-plankton_nrt_l3-multi-4km_P1D_202311/geoChunked.zarr>, 'arco-time-series-datalab-data-explorer': <Asset href=https://datalab.dive.edito.eu/data-explorer?source=https://s3.waw3-1.cloudferro.com/mdl-arco-geo-043/arco/OCEANCOLOUR_GLO_BGC_L3_NRT_009_101/cmems_obs-oc_glo_bgc-plankton_nrt_l3-multi-4km_P1D_202311/geoChunked.zarr>}\n",
      "climate_forecast-mass_concentration_of_diazotrophic_phytoplankton_expressed_as_chlorophyll_in_sea_water\n",
      "climate_forecast-mass_concentration_of_divinyl_chlorophyll_a_in_sea_water\n",
      "climate_forecast-mass_concentration_of_microphytoplankton_expressed_as_chlorophyll_in_sea_water\n",
      "16d9dc55-660e-5e06-9a2e-237f16f8957c\n",
      "{'arco-time-series': <Asset href=https://s3.waw3-1.cloudferro.com/mdl-arco-geo-043/arco/OCEANCOLOUR_GLO_BGC_L3_NRT_009_101/cmems_obs-oc_glo_bgc-plankton_nrt_l3-multi-4km_P1D_202311/geoChunked.zarr>, 'arco-time-series-datalab-data-explorer': <Asset href=https://datalab.dive.edito.eu/data-explorer?source=https://s3.waw3-1.cloudferro.com/mdl-arco-geo-043/arco/OCEANCOLOUR_GLO_BGC_L3_NRT_009_101/cmems_obs-oc_glo_bgc-plankton_nrt_l3-multi-4km_P1D_202311/geoChunked.zarr>}\n",
      "climate_forecast-mass_concentration_of_miscellaneous_phytoplankton_expressed_as_chlorophyll_in_sea_water\n",
      "climate_forecast-mass_concentration_of_monovinyl_chlorophyll_a_in_sea_water\n",
      "climate_forecast-mass_concentration_of_nanophytoplankton_expressed_as_chlorophyll_in_sea_water\n",
      "c43cdc44-1693-5efb-ab47-90dbc0561e8a\n",
      "{'arco-time-series': <Asset href=https://s3.waw3-1.cloudferro.com/mdl-arco-geo-043/arco/OCEANCOLOUR_GLO_BGC_L3_NRT_009_101/cmems_obs-oc_glo_bgc-plankton_nrt_l3-multi-4km_P1D_202311/geoChunked.zarr>, 'arco-time-series-datalab-data-explorer': <Asset href=https://datalab.dive.edito.eu/data-explorer?source=https://s3.waw3-1.cloudferro.com/mdl-arco-geo-043/arco/OCEANCOLOUR_GLO_BGC_L3_NRT_009_101/cmems_obs-oc_glo_bgc-plankton_nrt_l3-multi-4km_P1D_202311/geoChunked.zarr>}\n",
      "climate_forecast-mass_concentration_of_phytoplankton_expressed_as_chlorophyll_in_sea_water\n",
      "climate_forecast-mass_concentration_of_picophytoplankton_expressed_as_chlorophyll_in_sea_water\n",
      "78e82bb6-eada-50d8-8aa6-1bb44bf9a045\n",
      "{'arco-time-series': <Asset href=https://s3.waw3-1.cloudferro.com/mdl-arco-geo-043/arco/OCEANCOLOUR_GLO_BGC_L3_NRT_009_101/cmems_obs-oc_glo_bgc-plankton_nrt_l3-multi-4km_P1D_202311/geoChunked.zarr>, 'arco-time-series-datalab-data-explorer': <Asset href=https://datalab.dive.edito.eu/data-explorer?source=https://s3.waw3-1.cloudferro.com/mdl-arco-geo-043/arco/OCEANCOLOUR_GLO_BGC_L3_NRT_009_101/cmems_obs-oc_glo_bgc-plankton_nrt_l3-multi-4km_P1D_202311/geoChunked.zarr>}\n",
      "climate_forecast-mass_fraction_of_chlorophyll_a_in_sea_water\n",
      "emodnet-deepest_values_of_water_body_chlorophyll_a\n",
      "6a886250-2dff-53e6-8bcb-a99d6ff851b6\n",
      "{'native_asset': <Asset href=https://s3.waw3-1.cloudferro.com/emodnet/emodnet_native/emodnet_chemistry/water_body_chlorophyll_a/water_body_chlorophyll_a_masked_using_relative_error_threshold_0.3_northeast_atlantic_ocean/Water_body_chlorophyll-a.4Danl.nc>, 'metadata_csw': <Asset href=https://emodnet.ec.europa.eu/geonetwork/emodnet/eng/csw?request=GetRecordById&service=CSW&version=2.0.2&elementSetName=full&id=a3461fb1-d209-440e-a49f-7acff7731395>, 'metadata_xml': <Asset href=https://emodnet.ec.europa.eu/geonetwork/srv/api/records/a3461fb1-d209-440e-a49f-7acff7731395/formatters/xml>, 'Zarr': <Asset href=https://s3.waw3-1.cloudferro.com/emodnet/emodnet_arco/emodnet_chemistry/water_body_chlorophyll_a/deepest_values_of_water_body_chlorophyll_a_northeast_atlantic_ocean/Water_body_chlorophyll-a.4Danl.zarr>, 'wms': <Asset href=https://ec.oceanbrowser.net/emodnet/Python/web/wms?service=WMS&REQUEST=GetMap&VERSION=1.3.0&LAYERS=By_sea_regions/Northeast_Atlantic_Ocean/Water_body_chlorophyll-a.4Danl.nc*Water_body_chlorophyll-a_deepest&STYLES=pcolor_flat&CRS=CRS:84&BBOX=-42.1,24.9,-0.05,47.95&WIDTH=800&HEIGHT=600&FORMAT=image/png>, 'Zarr-datalab-data-explorer': <Asset href=https://datalab.dive.edito.eu/data-explorer?source=https://s3.waw3-1.cloudferro.com/emodnet/emodnet_arco/emodnet_chemistry/water_body_chlorophyll_a/deepest_values_of_water_body_chlorophyll_a_northeast_atlantic_ocean/Water_body_chlorophyll-a.4Danl.zarr>}\n",
      "emodnet-water_body_chlorophyll\n",
      "emodnet-water_body_chlorophyll_a\n",
      "3b050a64-ff4c-58b6-bb4f-828812505d3c\n",
      "{'native_asset': <Asset href=https://s3.waw3-1.cloudferro.com/emodnet/emodnet_native/emodnet_chemistry/water_body_chlorophyll_a/deepest_values_of_water_body_chlorophyll_a_baltic_sea_gulf_of_riga/Water_body_chlorophyll-a.nc>, 'metadata_csw': <Asset href=https://emodnet.ec.europa.eu/geonetwork/emodnet/eng/csw?request=GetRecordById&service=CSW&version=2.0.2&elementSetName=full&id=eea90fe0-0753-4d90-8c03-45d47627c2e4>, 'metadata_xml': <Asset href=https://emodnet.ec.europa.eu/geonetwork/srv/api/records/eea90fe0-0753-4d90-8c03-45d47627c2e4/formatters/xml>, 'wms': <Asset href=https://ec.oceanbrowser.net/emodnet/Python/web/wms?service=WMS&REQUEST=GetMap&VERSION=1.3.0&LAYERS=Coastal_areas/Baltic_Sea_-_Gulf_of_Riga/Water_body_chlorophyll-a.nc*Water_body_chlorophyll-a_L1&STYLES=pcolor_flat&CRS=CRS:84&BBOX=22.2,56.7,25.05,58.45&WIDTH=800&HEIGHT=600&FORMAT=image/png>, 'Water Body Chlorophyll A: Masked Using Relative Error Threshold 0.3 Baltic Sea (Gulf of Riga) data product': <Asset href=https://sextant.ifremer.fr/geonetwork/srv/api/records/eea90fe0-0753-4d90-8c03-45d47627c2e4/attachments/Water%20body%20chlorophyll-a_01_002.png>}\n",
      "emodnet-water_body_chlorophyll_a_deepest\n",
      "6f27dd0e-cdcb-51c2-b57d-adbc104fdf4d\n",
      "{'native_asset': <Asset href=https://s3.waw3-1.cloudferro.com/emodnet/emodnet_native/emodnet_chemistry/water_body_chlorophyll_a/relative_error_of_water_body_chlorophyll_a_north_sea/Water_body_chlorophyll-a.4Danl.nc>, 'metadata_csw': <Asset href=https://emodnet.ec.europa.eu/geonetwork/emodnet/eng/csw?request=GetRecordById&service=CSW&version=2.0.2&elementSetName=full&id=de582896-dd8c-413b-b9a7-1774de2e6344>, 'metadata_xml': <Asset href=https://emodnet.ec.europa.eu/geonetwork/srv/api/records/de582896-dd8c-413b-b9a7-1774de2e6344/formatters/xml>, 'Zarr': <Asset href=https://s3.waw3-1.cloudferro.com/emodnet/emodnet_arco/emodnet_chemistry/water_body_chlorophyll_a/deepest_values_of_water_body_chlorophyll_a_north_sea/Water_body_chlorophyll-a.4Danl.zarr>, 'wms': <Asset href=https://ec.oceanbrowser.net/emodnet/Python/web/wms?service=WMS&REQUEST=GetMap&VERSION=1.3.0&LAYERS=By_sea_regions/North_Sea/Water_body_chlorophyll-a.4Danl.nc*Water_body_chlorophyll-a_deepest&STYLES=pcolor_flat&CRS=CRS:84&BBOX=-20.1,46.9,25.05,63.05&WIDTH=800&HEIGHT=600&FORMAT=image/png>, 'Zarr-datalab-data-explorer': <Asset href=https://datalab.dive.edito.eu/data-explorer?source=https://s3.waw3-1.cloudferro.com/emodnet/emodnet_arco/emodnet_chemistry/water_body_chlorophyll_a/deepest_values_of_water_body_chlorophyll_a_north_sea/Water_body_chlorophyll-a.4Danl.zarr>}\n",
      "emodnet-water_body_chlorophyll_a_masked_using_relative_error_threshold_0.5\n",
      "5e84ce78-44b1-507a-87a1-45687c6df27a\n",
      "{'native_asset': <Asset href=https://s3.waw3-1.cloudferro.com/emodnet/emodnet_native/emodnet_chemistry/water_body_chlorophyll_a/relative_error_of_water_body_chlorophyll_a_black_sea/Water_body_chlorophyll-a.4Danl.nc>, 'metadata_csw': <Asset href=https://emodnet.ec.europa.eu/geonetwork/emodnet/eng/csw?request=GetRecordById&service=CSW&version=2.0.2&elementSetName=full&id=d4fa14db-81f5-4127-9425-75edc43462c3>, 'metadata_xml': <Asset href=https://emodnet.ec.europa.eu/geonetwork/srv/api/records/d4fa14db-81f5-4127-9425-75edc43462c3/formatters/xml>, 'Zarr': <Asset href=https://s3.waw3-1.cloudferro.com/emodnet/emodnet_arco/emodnet_chemistry/water_body_chlorophyll_a/water_body_chlorophyll_a_masked_using_relative_error_threshold_0.5_black_sea/Water_body_chlorophyll-a.4Danl.zarr>, 'wms': <Asset href=https://ec.oceanbrowser.net/emodnet/Python/web/wms?service=WMS&REQUEST=GetMap&VERSION=1.3.0&LAYERS=By_sea_regions/Black_Sea/Water_body_chlorophyll-a.4Danl.nc*Water_body_chlorophyll-a_L2&STYLES=pcolor_flat&CRS=CRS:84&BBOX=26.4,39.9,42.05,48.05&WIDTH=800&HEIGHT=600&FORMAT=image/png>, 'Water Body Chlorophyll A (Masked using Relative Error Threshold 0.5) - Black Sea data product': <Asset href=https://sextant.ifremer.fr/geonetwork/srv/api/records/d4fa14db-81f5-4127-9425-75edc43462c3/attachments/Water_body_chlorophyll-a_L2_in_Water_body_chlorophyll-a.4Danl.png>, 'Zarr-datalab-data-explorer': <Asset href=https://datalab.dive.edito.eu/data-explorer?source=https://s3.waw3-1.cloudferro.com/emodnet/emodnet_arco/emodnet_chemistry/water_body_chlorophyll_a/water_body_chlorophyll_a_masked_using_relative_error_threshold_0.5_black_sea/Water_body_chlorophyll-a.4Danl.zarr>}\n"
     ]
    }
   ],
   "source": [
    "collections = list(cat.get_all_collections())\n",
    "print(f'Found {len(collections)} collections')\n",
    "for collection in collections:\n",
    "    if 'chlorophyll' in collection.id:\n",
    "        print(collection.id)\n",
    "        for item in collection.get_all_items():\n",
    "            print(item.id)\n",
    "            print(item.assets)\n",
    "            break"
   ]
  },
  {
   "cell_type": "markdown",
   "metadata": {},
   "source": [
    "### Search for a Collection\n",
    "Identify a collection based on your variables (e.g., temperature, salinity). You can filter by collection metadata like keywords or spatial/temporal bounds."
   ]
  },
  {
   "cell_type": "code",
   "execution_count": 5,
   "metadata": {},
   "outputs": [
    {
     "name": "stdout",
     "output_type": "stream",
     "text": [
      "'dict' object has no attribute 'to_dict'\n",
      "Error with climate_forecast-air_temperature\n",
      "'dict' object has no attribute 'to_dict'\n",
      "Error with climate_forecast-dew_point_temperature\n",
      "'dict' object has no attribute 'to_dict'\n",
      "Error with emodnet-environmental_variables_that_influence_habitat_type_ice_cover\n",
      "'dict' object has no attribute 'to_dict'\n",
      "Error with emodnet-environmental_variables_that_influence_habitat_type_optical_properties\n",
      "'dict' object has no attribute 'to_dict'\n",
      "Error with emodnet-eunis_seabed_habitat_class_2019\n",
      "'dict' object has no attribute 'to_dict'\n",
      "Error with climate_forecast-fractional_saturation_of_oxygen_in_sea_water\n",
      "'dict' object has no attribute 'to_dict'\n",
      "Error with emodnet-individual_habitat_maps_from_surveys_essential_fish_habitats\n",
      "'dict' object has no attribute 'to_dict'\n",
      "Error with emodnet-marine_strategy_framework_directive_benthic_broad_habitat_type\n",
      "'dict' object has no attribute 'to_dict'\n",
      "Error with climate_forecast-mole_concentration_of_dissolved_molecular_oxygen_in_sea_water\n",
      "'dict' object has no attribute 'to_dict'\n",
      "Error with climate_forecast-moles_of_oxygen_per_unit_mass_in_sea_water\n",
      "'dict' object has no attribute 'to_dict'\n",
      "Error with emodnet-oxygen_density_at_the_seabed\n",
      "'dict' object has no attribute 'to_dict'\n",
      "Error with climate_forecast-sea_ice_surface_temperature\n",
      "'dict' object has no attribute 'to_dict'\n",
      "Error with climate_forecast-sea_surface_foundation_temperature\n",
      "'dict' object has no attribute 'to_dict'\n",
      "Error with climate_forecast-sea_surface_subskin_temperature\n",
      "'dict' object has no attribute 'to_dict'\n",
      "Error with climate_forecast-sea_surface_temperature\n",
      "'dict' object has no attribute 'to_dict'\n",
      "Error with climate_forecast-sea_water_conservative_temperature\n",
      "'dict' object has no attribute 'to_dict'\n",
      "Error with climate_forecast-sea_water_potential_temperature\n",
      "'dict' object has no attribute 'to_dict'\n",
      "Error with climate_forecast-sea_water_potential_temperature_at_sea_floor\n",
      "'dict' object has no attribute 'to_dict'\n",
      "Error with climate_forecast-sea_water_potential_temperature_expressed_as_heat_content\n",
      "'dict' object has no attribute 'to_dict'\n",
      "Error with climate_forecast-sea_water_temperature\n",
      "'dict' object has no attribute 'to_dict'\n",
      "Error with emodnet-seabed_habitats_maps\n",
      "'dict' object has no attribute 'to_dict'\n",
      "Error with climate_forecast-surface_temperature\n",
      "'dict' object has no attribute 'to_dict'\n",
      "Error with climate_forecast-volume_fraction_of_oxygen_in_sea_water\n",
      "'dict' object has no attribute 'to_dict'\n",
      "Error with emodnet-water_body_dissolved_oxygen_concentration\n",
      "'dict' object has no attribute 'to_dict'\n",
      "Error with emodnet-water_body_dissolved_oxygen_concentration_masked_using_relative_error_threshold_0.5\n",
      "'dict' object has no attribute 'to_dict'\n",
      "Error with climate_forecast-wet_bulb_temperature\n",
      "'dict' object has no attribute 'to_dict'\n",
      "Error with climate_forecast-air_temperature\n",
      "'dict' object has no attribute 'to_dict'\n",
      "Error with climate_forecast-dew_point_temperature\n",
      "'dict' object has no attribute 'to_dict'\n",
      "Error with climate_forecast-fractional_saturation_of_oxygen_in_sea_water\n",
      "'dict' object has no attribute 'to_dict'\n",
      "Error with climate_forecast-mole_concentration_of_dissolved_molecular_oxygen_in_sea_water\n",
      "'dict' object has no attribute 'to_dict'\n",
      "Error with climate_forecast-moles_of_oxygen_per_unit_mass_in_sea_water\n",
      "'dict' object has no attribute 'to_dict'\n",
      "Error with climate_forecast-sea_ice_surface_temperature\n",
      "'dict' object has no attribute 'to_dict'\n",
      "Error with climate_forecast-sea_surface_foundation_temperature\n",
      "'dict' object has no attribute 'to_dict'\n",
      "Error with climate_forecast-sea_surface_subskin_temperature\n",
      "'dict' object has no attribute 'to_dict'\n",
      "Error with climate_forecast-sea_surface_temperature\n",
      "'dict' object has no attribute 'to_dict'\n",
      "Error with climate_forecast-sea_water_conservative_temperature\n",
      "'dict' object has no attribute 'to_dict'\n",
      "Error with climate_forecast-sea_water_potential_temperature\n",
      "'dict' object has no attribute 'to_dict'\n",
      "Error with climate_forecast-sea_water_potential_temperature_at_sea_floor\n",
      "'dict' object has no attribute 'to_dict'\n",
      "Error with climate_forecast-sea_water_potential_temperature_expressed_as_heat_content\n",
      "'dict' object has no attribute 'to_dict'\n",
      "Error with climate_forecast-sea_water_temperature\n",
      "'dict' object has no attribute 'to_dict'\n",
      "Error with climate_forecast-surface_temperature\n",
      "'dict' object has no attribute 'to_dict'\n",
      "Error with climate_forecast-volume_fraction_of_oxygen_in_sea_water\n",
      "'dict' object has no attribute 'to_dict'\n",
      "Error with climate_forecast-wet_bulb_temperature\n",
      "'dict' object has no attribute 'to_dict'\n",
      "Error with emodnet-environmental_variables_that_influence_habitat_type_ice_cover\n",
      "'dict' object has no attribute 'to_dict'\n",
      "Error with emodnet-environmental_variables_that_influence_habitat_type_optical_properties\n",
      "'dict' object has no attribute 'to_dict'\n",
      "Error with emodnet-eunis_seabed_habitat_class_2019\n",
      "'dict' object has no attribute 'to_dict'\n",
      "Error with emodnet-individual_habitat_maps_from_surveys_essential_fish_habitats\n",
      "'dict' object has no attribute 'to_dict'\n",
      "Error with emodnet-marine_strategy_framework_directive_benthic_broad_habitat_type\n",
      "'dict' object has no attribute 'to_dict'\n",
      "Error with emodnet-oxygen_density_at_the_seabed\n",
      "'dict' object has no attribute 'to_dict'\n",
      "Error with emodnet-seabed_habitats_maps\n",
      "'dict' object has no attribute 'to_dict'\n",
      "Error with emodnet-water_body_dissolved_oxygen_concentration\n",
      "'dict' object has no attribute 'to_dict'\n",
      "Error with emodnet-water_body_dissolved_oxygen_concentration_masked_using_relative_error_threshold_0.5\n"
     ]
    },
    {
     "data": {
      "text/html": [
       "<div>\n",
       "<style scoped>\n",
       "    .dataframe tbody tr th:only-of-type {\n",
       "        vertical-align: middle;\n",
       "    }\n",
       "\n",
       "    .dataframe tbody tr th {\n",
       "        vertical-align: top;\n",
       "    }\n",
       "\n",
       "    .dataframe thead th {\n",
       "        text-align: right;\n",
       "    }\n",
       "</style>\n",
       "<table border=\"1\" class=\"dataframe\">\n",
       "  <thead>\n",
       "    <tr style=\"text-align: right;\">\n",
       "      <th></th>\n",
       "    </tr>\n",
       "  </thead>\n",
       "  <tbody>\n",
       "  </tbody>\n",
       "</table>\n",
       "</div>"
      ],
      "text/plain": [
       "Empty DataFrame\n",
       "Columns: []\n",
       "Index: []"
      ]
     },
     "execution_count": 5,
     "metadata": {},
     "output_type": "execute_result"
    }
   ],
   "source": [
    "all_items = []\n",
    "collection_selection = ['oxygen', 'habitat', 'elevation', 'temperature']\n",
    "for collection in collections:\n",
    "    if 'oxygen' in collection.id or 'habitat' in collection.id or 'temperature' in collection.id:\n",
    "        collection_items = collection.get_all_items()\n",
    "        try:\n",
    "            for item in collection_items:\n",
    "                # Append item information to the list\n",
    "                geometry = item.geometry.to_dict()\n",
    "                all_items.append({  'Collection ID': collection.id, \n",
    "                                    'Item ID': item.id,\n",
    "                                    'Item bounds': item.geometry, \n",
    "                                    'item_starttime': item.properties['start_datetime'],\n",
    "                                    'item_endtime': item.properties['end_datetime'], \n",
    "                                    'Assets': item.assets})\n",
    "        except Exception as e:\n",
    "            print(e)\n",
    "            print(f'Error with {collection.id}')\n",
    "            continue\n",
    "oxygen_habitat_temperature_items_df = pd.DataFrame(all_items)\n",
    "oxygen_habitat_temperature_items_df.head()"
   ]
  },
  {
   "cell_type": "markdown",
   "metadata": {},
   "source": [
    "### Select a Collection and Fetch Items\n",
    "Choose a collection and list the available items (datasets), filtered by date range and geographic region."
   ]
  },
  {
   "cell_type": "code",
   "execution_count": 5,
   "metadata": {},
   "outputs": [
    {
     "ename": "KeyError",
     "evalue": "'item_starttime'",
     "output_type": "error",
     "traceback": [
      "\u001b[0;31m---------------------------------------------------------------------------\u001b[0m",
      "\u001b[0;31mKeyError\u001b[0m                                  Traceback (most recent call last)",
      "Cell \u001b[0;32mIn[5], line 14\u001b[0m\n\u001b[1;32m     11\u001b[0m start_date \u001b[38;5;241m=\u001b[39m \u001b[38;5;124m'\u001b[39m\u001b[38;5;124m2000-01-01\u001b[39m\u001b[38;5;124m'\u001b[39m\n\u001b[1;32m     12\u001b[0m end_date \u001b[38;5;241m=\u001b[39m \u001b[38;5;124m'\u001b[39m\u001b[38;5;124m2030-12-31\u001b[39m\u001b[38;5;124m'\u001b[39m\n\u001b[0;32m---> 14\u001b[0m time_df \u001b[38;5;241m=\u001b[39m \u001b[43mfilter_items_by_time\u001b[49m\u001b[43m(\u001b[49m\u001b[43moxygen_habitat_temperature_items_df\u001b[49m\u001b[43m,\u001b[49m\u001b[43m \u001b[49m\u001b[43mstart_date\u001b[49m\u001b[43m,\u001b[49m\u001b[43m \u001b[49m\u001b[43mend_date\u001b[49m\u001b[43m)\u001b[49m\n\u001b[1;32m     15\u001b[0m time_df\u001b[38;5;241m.\u001b[39mhead()\n",
      "Cell \u001b[0;32mIn[5], line 5\u001b[0m, in \u001b[0;36mfilter_items_by_time\u001b[0;34m(items_df, start_date, end_date)\u001b[0m\n\u001b[1;32m      1\u001b[0m \u001b[38;5;28;01mdef\u001b[39;00m \u001b[38;5;21mfilter_items_by_time\u001b[39m(items_df, start_date, end_date):\n\u001b[1;32m      2\u001b[0m \u001b[38;5;250m    \u001b[39m\u001b[38;5;124;03m\"\"\"\u001b[39;00m\n\u001b[1;32m      3\u001b[0m \u001b[38;5;124;03m    Filter items based on the time range.\u001b[39;00m\n\u001b[1;32m      4\u001b[0m \u001b[38;5;124;03m    \"\"\"\u001b[39;00m\n\u001b[0;32m----> 5\u001b[0m     items_df[\u001b[38;5;124m'\u001b[39m\u001b[38;5;124mitem_starttime\u001b[39m\u001b[38;5;124m'\u001b[39m] \u001b[38;5;241m=\u001b[39m pd\u001b[38;5;241m.\u001b[39mto_datetime(\u001b[43mitems_df\u001b[49m\u001b[43m[\u001b[49m\u001b[38;5;124;43m'\u001b[39;49m\u001b[38;5;124;43mitem_starttime\u001b[39;49m\u001b[38;5;124;43m'\u001b[39;49m\u001b[43m]\u001b[49m)\n\u001b[1;32m      6\u001b[0m     items_df[\u001b[38;5;124m'\u001b[39m\u001b[38;5;124mitem_endtime\u001b[39m\u001b[38;5;124m'\u001b[39m] \u001b[38;5;241m=\u001b[39m pd\u001b[38;5;241m.\u001b[39mto_datetime(items_df[\u001b[38;5;124m'\u001b[39m\u001b[38;5;124mitem_endtime\u001b[39m\u001b[38;5;124m'\u001b[39m])\n\u001b[1;32m      7\u001b[0m     items_df \u001b[38;5;241m=\u001b[39m items_df\u001b[38;5;241m.\u001b[39msort_values(by\u001b[38;5;241m=\u001b[39m\u001b[38;5;124m'\u001b[39m\u001b[38;5;124mitem_starttime\u001b[39m\u001b[38;5;124m'\u001b[39m)\n",
      "File \u001b[0;32m~/Documents/coding/Edito_python_STAC/.venv/lib/python3.10/site-packages/pandas/core/frame.py:4102\u001b[0m, in \u001b[0;36mDataFrame.__getitem__\u001b[0;34m(self, key)\u001b[0m\n\u001b[1;32m   4100\u001b[0m \u001b[38;5;28;01mif\u001b[39;00m \u001b[38;5;28mself\u001b[39m\u001b[38;5;241m.\u001b[39mcolumns\u001b[38;5;241m.\u001b[39mnlevels \u001b[38;5;241m>\u001b[39m \u001b[38;5;241m1\u001b[39m:\n\u001b[1;32m   4101\u001b[0m     \u001b[38;5;28;01mreturn\u001b[39;00m \u001b[38;5;28mself\u001b[39m\u001b[38;5;241m.\u001b[39m_getitem_multilevel(key)\n\u001b[0;32m-> 4102\u001b[0m indexer \u001b[38;5;241m=\u001b[39m \u001b[38;5;28;43mself\u001b[39;49m\u001b[38;5;241;43m.\u001b[39;49m\u001b[43mcolumns\u001b[49m\u001b[38;5;241;43m.\u001b[39;49m\u001b[43mget_loc\u001b[49m\u001b[43m(\u001b[49m\u001b[43mkey\u001b[49m\u001b[43m)\u001b[49m\n\u001b[1;32m   4103\u001b[0m \u001b[38;5;28;01mif\u001b[39;00m is_integer(indexer):\n\u001b[1;32m   4104\u001b[0m     indexer \u001b[38;5;241m=\u001b[39m [indexer]\n",
      "File \u001b[0;32m~/Documents/coding/Edito_python_STAC/.venv/lib/python3.10/site-packages/pandas/core/indexes/range.py:417\u001b[0m, in \u001b[0;36mRangeIndex.get_loc\u001b[0;34m(self, key)\u001b[0m\n\u001b[1;32m    415\u001b[0m         \u001b[38;5;28;01mraise\u001b[39;00m \u001b[38;5;167;01mKeyError\u001b[39;00m(key) \u001b[38;5;28;01mfrom\u001b[39;00m \u001b[38;5;21;01merr\u001b[39;00m\n\u001b[1;32m    416\u001b[0m \u001b[38;5;28;01mif\u001b[39;00m \u001b[38;5;28misinstance\u001b[39m(key, Hashable):\n\u001b[0;32m--> 417\u001b[0m     \u001b[38;5;28;01mraise\u001b[39;00m \u001b[38;5;167;01mKeyError\u001b[39;00m(key)\n\u001b[1;32m    418\u001b[0m \u001b[38;5;28mself\u001b[39m\u001b[38;5;241m.\u001b[39m_check_indexing_error(key)\n\u001b[1;32m    419\u001b[0m \u001b[38;5;28;01mraise\u001b[39;00m \u001b[38;5;167;01mKeyError\u001b[39;00m(key)\n",
      "\u001b[0;31mKeyError\u001b[0m: 'item_starttime'"
     ]
    }
   ],
   "source": [
    "def filter_items_by_time(items_df, start_date, end_date):\n",
    "    \"\"\"\n",
    "    Filter items based on the time range.\n",
    "    \"\"\"\n",
    "    items_df['item_starttime'] = pd.to_datetime(items_df['item_starttime'])\n",
    "    items_df['item_endtime'] = pd.to_datetime(items_df['item_endtime'])\n",
    "    items_df = items_df.sort_values(by='item_starttime')\n",
    "    return items_df[(items_df['item_starttime'] > start_date) & (items_df['item_endtime'] < end_date)]\n",
    "\n",
    "# Define time range\n",
    "start_date = '2000-01-01'\n",
    "end_date = '2030-12-31'\n",
    "\n",
    "time_df = filter_items_by_time(oxygen_habitat_temperature_items_df, start_date, end_date)\n",
    "time_df.head()"
   ]
  },
  {
   "cell_type": "markdown",
   "metadata": {},
   "source": [
    "### Look for Cloud-Optimized Assets\n",
    "From each item, find and extract cloud-optimized assets (like Zarr or Parquet) that can be processed further."
   ]
  },
  {
   "cell_type": "code",
   "execution_count": 33,
   "metadata": {},
   "outputs": [],
   "source": [
    "all_items_assets = []\n",
    "           # Now filter the assets\n",
    "all_items_assets = []\n",
    "for _, row in time_df.iterrows():\n",
    "    collection_id = row['Collection ID']\n",
    "    item_id = row['Item ID']\n",
    "    bounds = row['Item bounds']\n",
    "    data_starttime = row['item_starttime']\n",
    "    data_endtime = row['item_endtime']\n",
    "    assets = row['Assets']\n",
    "    \n",
    "    for asset_key, asset in assets.items():\n",
    "        if asset.href.endswith('.zarr') or asset.href.endswith('.zarr/') or asset.href.endswith('.parquet'):\n",
    "            # Append asset information to the list\n",
    "            all_items_assets.append({'Collection ID': collection_id, 'Item ID': item_id, 'Data Start': data_starttime, 'Data End': data_endtime, 'Bounds': bounds, 'Asset Key': asset_key, 'Asset Href': asset.href})\n",
    "\n",
    "# Create a DataFrame for assets\n",
    "assets_df = pd.DataFrame(all_items_assets)\n",
    "assets_df.head()\n",
    "\n",
    "assets_df.to_csv('temperature_oxygen_habitat_arco_assets.csv')"
   ]
  }
 ],
 "metadata": {
  "kernelspec": {
   "display_name": "bcubed",
   "language": "python",
   "name": "python3"
  },
  "language_info": {
   "codemirror_mode": {
    "name": "ipython",
    "version": 3
   },
   "file_extension": ".py",
   "mimetype": "text/x-python",
   "name": "python",
   "nbconvert_exporter": "python",
   "pygments_lexer": "ipython3",
   "version": "3.10.12"
  }
 },
 "nbformat": 4,
 "nbformat_minor": 2
}
