{
 "cells": [
  {
   "cell_type": "markdown",
   "id": "b119c7ee-410c-4be3-9707-1d953d1d21b2",
   "metadata": {},
   "source": [
    "# Retrieve a CMEMS dataset\n",
    "\n",
    "Imagine you used to work with this ocean colour product from CMEMS:\n",
    "https://data.marine.copernicus.eu/product/OCEANCOLOUR_NWS_BGC_HR_L4_NRT_009_209/description\n",
    "\n",
    "Now you want to move to the DTO facilities, and you are wondering how to find that dataset there. \n"
   ]
  },
  {
   "cell_type": "markdown",
   "id": "ceae2898-17b9-4119-bd80-87468c72c0db",
   "metadata": {},
   "source": [
    "### 0. setup environment"
   ]
  },
  {
   "cell_type": "markdown",
   "id": "9521b066-9fe2-45e5-bc40-9a7e12921a48",
   "metadata": {},
   "source": [
    "#### Requirements"
   ]
  },
  {
   "cell_type": "code",
   "execution_count": 1,
   "id": "5b6d6824-5f11-4914-ad68-cdb31484715f",
   "metadata": {},
   "outputs": [],
   "source": [
    "packages = ['pystac_client',\n",
    "            'copernicusmarine',\n",
    "            'xarray',\n",
    "            'requests',\n",
    "            'aiohttp',\n",
    "            'copernicusmarine']"
   ]
  },
  {
   "cell_type": "markdown",
   "id": "539f5006-d28c-4a6e-bcff-1fcfad0571b3",
   "metadata": {},
   "source": [
    "#### Install packages"
   ]
  },
  {
   "cell_type": "code",
   "execution_count": 2,
   "id": "02e1daee-f969-49cc-b0ea-10ded5f6b2c5",
   "metadata": {},
   "outputs": [],
   "source": [
    "for package in packages:\n",
    "    !pip install {package} > /dev/null 2>&1"
   ]
  },
  {
   "cell_type": "markdown",
   "id": "d85cfc50-086a-41f6-a087-31470122b595",
   "metadata": {},
   "source": [
    "#### Load packages"
   ]
  },
  {
   "cell_type": "code",
   "execution_count": 3,
   "id": "8bf0e024-94c0-47af-971a-2bf2f317323d",
   "metadata": {},
   "outputs": [
    {
     "name": "stderr",
     "output_type": "stream",
     "text": [
      "/opt/conda/lib/python3.12/site-packages/tqdm/auto.py:21: TqdmWarning: IProgress not found. Please update jupyter and ipywidgets. See https://ipywidgets.readthedocs.io/en/stable/user_install.html\n",
      "  from .autonotebook import tqdm as notebook_tqdm\n"
     ]
    }
   ],
   "source": [
    "for package in packages:\n",
    "    exec(f'import {package}')"
   ]
  },
  {
   "cell_type": "markdown",
   "id": "3175f2c0-a605-42dc-a949-9b66a4a2b145",
   "metadata": {},
   "source": [
    "<br>\n",
    "\n",
    "### 1. Open the STAC catalog\n",
    "Using pystac client you can connect to the STAC."
   ]
  },
  {
   "cell_type": "code",
   "execution_count": 4,
   "id": "0bd96529-7a8a-40ca-aca6-cdbe997cd9dd",
   "metadata": {},
   "outputs": [
    {
     "name": "stdout",
     "output_type": "stream",
     "text": [
      "<Client id=catalogs>\n"
     ]
    }
   ],
   "source": [
    "url = 'https://catalog.dive.edito.eu'\n",
    "client = pystac_client.Client.open(url)\n",
    "print(client)"
   ]
  },
  {
   "cell_type": "markdown",
   "id": "f13132ab-e0e8-4bca-a2fd-681f25ed4c4f",
   "metadata": {},
   "source": [
    "<br>\n",
    "\n",
    "### 2. Load collections\n",
    "One property of the STAC is collections, its a good way to explore the available datasets."
   ]
  },
  {
   "cell_type": "code",
   "execution_count": 5,
   "id": "9e268137-52fb-4a49-84f9-3fa4bd5ffc6a",
   "metadata": {},
   "outputs": [],
   "source": [
    "collections = list(client.get_collections())"
   ]
  },
  {
   "cell_type": "markdown",
   "id": "11b3db19-01e7-47ec-a623-753a4289a2d8",
   "metadata": {},
   "source": [
    "Lets see how many collections there are:"
   ]
  },
  {
   "cell_type": "code",
   "execution_count": 6,
   "id": "1fbb61b5-56c0-488b-ae8e-4fc5133cb863",
   "metadata": {},
   "outputs": [
    {
     "name": "stdout",
     "output_type": "stream",
     "text": [
      "number of collections: 4845\n"
     ]
    }
   ],
   "source": [
    "print(f\"number of collections: {len(collections)}\")"
   ]
  },
  {
   "cell_type": "markdown",
   "id": "c0e39a02-ef42-4e3b-bb5f-c19c9ee65dda",
   "metadata": {},
   "source": [
    "<br>\n",
    "\n",
    "### 3. Query collections\n",
    "We will loop over the collections and filter a variable defined in CMEMS such as: Mass concentration of chlorophyll a in sea water. Notice that we need to add underscores as spaces are not accepted.\n",
    "#### 3.1 Filter on variable"
   ]
  },
  {
   "cell_type": "code",
   "execution_count": 7,
   "id": "7565944c-b546-49c5-84fb-862cc9a55815",
   "metadata": {},
   "outputs": [],
   "source": [
    "variable = \"chlorophyll_a\""
   ]
  },
  {
   "cell_type": "code",
   "execution_count": 8,
   "id": "18e15aad-a8d6-404c-863a-cd655018b9cc",
   "metadata": {},
   "outputs": [
    {
     "name": "stdout",
     "output_type": "stream",
     "text": [
      "emodnet-deepest_values_of_water_body_chlorophyll_a\n",
      "climate_forecast-mass_concentration_of_chlorophyll_a_in_sea_floor_sediment\n",
      "climate_forecast-mass_concentration_of_chlorophyll_a_in_sea_ice\n",
      "climate_forecast-mass_concentration_of_chlorophyll_a_in_sea_water\n",
      "climate_forecast-mass_concentration_of_divinyl_chlorophyll_a_in_sea_water\n",
      "climate_forecast-mass_concentration_of_monovinyl_chlorophyll_a_in_sea_water\n",
      "climate_forecast-mass_fraction_of_chlorophyll_a_in_sea_water\n",
      "emodnet-water_body_chlorophyll_a\n",
      "emodnet-water_body_chlorophyll_a_deepest\n",
      "emodnet-water_body_chlorophyll_a_masked_using_relative_error_threshold_0.5\n"
     ]
    }
   ],
   "source": [
    "for collection in collections:\n",
    "    if variable in collection.id:\n",
    "        print(collection.id)"
   ]
  },
  {
   "cell_type": "markdown",
   "id": "de98b12a-24aa-4a0e-b0e6-577778554741",
   "metadata": {},
   "source": [
    "#### 3.2 Retrieve products\n",
    "Get all the products from these collections."
   ]
  },
  {
   "cell_type": "code",
   "execution_count": 9,
   "id": "7782be02-0c94-422e-b3e6-9250a2e93a0c",
   "metadata": {},
   "outputs": [],
   "source": [
    "products = []\n",
    "for collection in collections:\n",
    "    if variable in collection.id:\n",
    "        for i, item in enumerate(collection.get_items()):\n",
    "            products.append(item)"
   ]
  },
  {
   "cell_type": "markdown",
   "id": "a71dae29-fa91-4f5f-8540-1d3ed4df2a51",
   "metadata": {},
   "source": [
    "Lets see how many products this is."
   ]
  },
  {
   "cell_type": "code",
   "execution_count": 10,
   "id": "c30d1de5-cab2-44ac-9105-d925da835fee",
   "metadata": {},
   "outputs": [
    {
     "name": "stdout",
     "output_type": "stream",
     "text": [
      "number of products: 419\n"
     ]
    }
   ],
   "source": [
    "print(f\"number of products: {len(products)}\")"
   ]
  },
  {
   "cell_type": "markdown",
   "id": "31d3bdcc-7e16-4536-8262-71a0622a20e0",
   "metadata": {},
   "source": [
    "#### 3.3 Filter the products \n",
    "On the CMEMS webpage, the product ID is defined as \"OCEANCOLOUR_NWS_BGC_HR_L4_NRT_009_209\"."
   ]
  },
  {
   "cell_type": "code",
   "execution_count": 11,
   "id": "f4b25cca-8641-4c69-8f1d-fd9c1a22b009",
   "metadata": {},
   "outputs": [],
   "source": [
    "product_id = \"OCEANCOLOUR_NWS_BGC_HR_L4_NRT_009_209\""
   ]
  },
  {
   "cell_type": "code",
   "execution_count": 12,
   "id": "73b22242-eebc-4200-b647-a0b6b1e8d787",
   "metadata": {},
   "outputs": [
    {
     "name": "stdout",
     "output_type": "stream",
     "text": [
      "140 https://s3.waw3-1.cloudferro.com/mdl-arco-geo-045/arco/OCEANCOLOUR_NWS_BGC_HR_L4_NRT_009_209/cmems_obs_oc_nws_bgc_tur-spm-chl_nrt_l4-hr-mosaic_P1D-m_202107/geoChunked.zarr\n",
      "140 https://datalab.dive.edito.eu/data-explorer?source=https://s3.waw3-1.cloudferro.com/mdl-arco-geo-045/arco/OCEANCOLOUR_NWS_BGC_HR_L4_NRT_009_209/cmems_obs_oc_nws_bgc_tur-spm-chl_nrt_l4-hr-mosaic_P1D-m_202107/geoChunked.zarr\n",
      "141 https://s3.waw3-1.cloudferro.com/mdl-arco-time-045/arco/OCEANCOLOUR_NWS_BGC_HR_L4_NRT_009_209/cmems_obs_oc_nws_bgc_tur-spm-chl_nrt_l4-hr-mosaic_P1D-m_202107/timeChunked.zarr\n",
      "141 https://datalab.dive.edito.eu/data-explorer?source=https://s3.waw3-1.cloudferro.com/mdl-arco-time-045/arco/OCEANCOLOUR_NWS_BGC_HR_L4_NRT_009_209/cmems_obs_oc_nws_bgc_tur-spm-chl_nrt_l4-hr-mosaic_P1D-m_202107/timeChunked.zarr\n",
      "142 https://wmts.marine.copernicus.eu/teroWmts/OCEANCOLOUR_NWS_BGC_HR_L4_NRT_009_209/cmems_obs_oc_nws_bgc_tur-spm-chl_nrt_l4-hr-mosaic_P1D-m_202107\n"
     ]
    }
   ],
   "source": [
    "for collection in collections:\n",
    "    if variable in collection.id:\n",
    "        for i, item in enumerate(collection.get_items()):\n",
    "            for asset_key, asset in item.assets.items():\n",
    "                if product_id in asset.href:\n",
    "                    print(i, asset.href)"
   ]
  },
  {
   "cell_type": "markdown",
   "id": "90190a92-e9c4-4d26-abb2-ce7f7f4913b4",
   "metadata": {},
   "source": [
    "<br>\n",
    "\n",
    "### 4. Open ZARR\n",
    "Select one of the zarr files and inspect how it looks. In this example we will continue with the geochunked zarr:"
   ]
  },
  {
   "cell_type": "code",
   "execution_count": 13,
   "id": "9004c806-afe4-416c-a633-97f3fda4a544",
   "metadata": {},
   "outputs": [],
   "source": [
    "my_zarr = \"https://s3.waw3-1.cloudferro.com/mdl-arco-geo-045/arco/OCEANCOLOUR_NWS_BGC_HR_L4_NRT_009_209/cmems_obs_oc_nws_bgc_tur-spm-chl_nrt_l4-hr-mosaic_P1D-m_202107/geoChunked.zarr\""
   ]
  },
  {
   "cell_type": "code",
   "execution_count": 14,
   "id": "ef83b368-70fc-4865-b9d0-c1eaa58a3eb8",
   "metadata": {},
   "outputs": [],
   "source": [
    "from copernicusmarine.core_functions import custom_open_zarr"
   ]
  },
  {
   "cell_type": "code",
   "execution_count": 15,
   "id": "5b8cb9e0-bfbd-4677-a9ba-08fb9e722d83",
   "metadata": {},
   "outputs": [
    {
     "name": "stdout",
     "output_type": "stream",
     "text": [
      "<xarray.Dataset> Size: 4TB\n",
      "Dimensions:    (time: 1702, latitude: 15120, longitude: 14311)\n",
      "Coordinates:\n",
      "  * latitude   (latitude) float64 121kB 48.0 48.0 48.0 48.0 ... 62.0 62.0 62.0\n",
      "  * longitude  (longitude) float64 114kB -12.0 -12.0 -12.0 ... 13.0 13.0 13.0\n",
      "  * time       (time) datetime64[ns] 14kB 2020-01-04 2020-01-05 ... 2024-08-31\n",
      "Data variables:\n",
      "    CHL        (time, latitude, longitude) float32 1TB dask.array<chunksize=(230, 64, 64), meta=np.ndarray>\n",
      "    SPM        (time, latitude, longitude) float32 1TB dask.array<chunksize=(230, 64, 64), meta=np.ndarray>\n",
      "    TUR        (time, latitude, longitude) float32 1TB dask.array<chunksize=(230, 64, 64), meta=np.ndarray>\n",
      "Attributes: (12/46)\n",
      "    Conventions:                CF-1.7\n",
      "    TileSize:                   945:1192\n",
      "    cmd_data_type:              Grid\n",
      "    cmems_dataset:              cmems_obs_oc_nws_bgc_tur-spm-chl_nrt_l4-hr-mo...\n",
      "    cmems_product_id:           OCEANCOLOUR_NWS_BGC_HR_L4_NRT_009_209\n",
      "    contact:                    https://marine.copernicus.eu/\n",
      "    ...                         ...\n",
      "    time_coverage_duration:     P1D\n",
      "    time_coverage_resolution:   P1D\n",
      "    time_coverage_start:        20200104T000000Z\n",
      "    time_coverage_stop:         20200104T235959Z\n",
      "    title:                      CMEMS HR-OC North West Shelf Region transpare...\n",
      "    tracking_id:                83b8b789-9519-4d8c-babe-670e7d5525f2\n"
     ]
    }
   ],
   "source": [
    "ds = custom_open_zarr.open_zarr(my_zarr)\n",
    "print(ds)"
   ]
  },
  {
   "cell_type": "markdown",
   "id": "51a50ba9-df98-4d2f-bbcf-d8812794ce69",
   "metadata": {},
   "source": [
    "Notice the size: 4TB. In CMEMS this product consists of monthly netcdf file, in ARCO format they have been merged into one file. Very handy for slicing the dataset. "
   ]
  },
  {
   "cell_type": "markdown",
   "id": "07f2cfa0-3665-4342-8a49-deff4556ac82",
   "metadata": {},
   "source": [
    "<br>\n",
    "\n",
    "### 5. Slice data and plot\n",
    "Slice the dataset based on extend in space and time."
   ]
  },
  {
   "cell_type": "code",
   "execution_count": 16,
   "id": "d32f0272-835e-42cb-8fc7-0908847ad809",
   "metadata": {},
   "outputs": [],
   "source": [
    "lat_min, lat_max = (50, 53) \n",
    "lon_min, lon_max = (2, 5)\n",
    "time_index = 0"
   ]
  },
  {
   "cell_type": "markdown",
   "id": "fdb58fe3-ba1c-46f3-aeda-0dc493590601",
   "metadata": {},
   "source": [
    "Execute the slicing."
   ]
  },
  {
   "cell_type": "code",
   "execution_count": 17,
   "id": "d24dac3a-e1e6-4d37-865c-6ed56852b77d",
   "metadata": {},
   "outputs": [
    {
     "name": "stdout",
     "output_type": "stream",
     "text": [
      "<xarray.DataArray 'CHL' (latitude: 3240, longitude: 1717)> Size: 22MB\n",
      "dask.array<getitem, shape=(3240, 1717), dtype=float32, chunksize=(64, 64), chunktype=numpy.ndarray>\n",
      "Coordinates:\n",
      "  * latitude   (latitude) float64 26kB 50.0 50.0 50.0 50.0 ... 53.0 53.0 53.0\n",
      "  * longitude  (longitude) float64 14kB 2.001 2.003 2.005 ... 4.996 4.997 4.999\n",
      "    time       datetime64[ns] 8B 2020-01-04\n",
      "Attributes:\n",
      "    long_name:      Chlorophyll-a concentration derived from MSI L2R using HR...\n",
      "    standard_name:  mass_concentration_of_chlorophyll_a_in_sea_water\n",
      "    units:          mg m-3\n",
      "    valid_min:      0.0\n"
     ]
    }
   ],
   "source": [
    "subset = ds.isel(time=time_index).sel(latitude=slice(lat_min, lat_max), longitude=slice(lon_min, lon_max))['CHL']\n",
    "print(subset)"
   ]
  },
  {
   "cell_type": "markdown",
   "id": "c98d6c55-3c31-452e-b56a-0750584856a6",
   "metadata": {},
   "source": [
    "Plot the slice."
   ]
  },
  {
   "cell_type": "code",
   "execution_count": null,
   "id": "2fe445d0-67a5-4136-b00b-acbb5a08da91",
   "metadata": {},
   "outputs": [],
   "source": [
    "subset.plot(cmap='viridis',vmin=0, vmax=30 )"
   ]
  },
  {
   "cell_type": "code",
   "execution_count": null,
   "id": "ce9ad623-85bc-4f28-80d6-00c16368f3e2",
   "metadata": {},
   "outputs": [],
   "source": []
  }
 ],
 "metadata": {
  "kernelspec": {
   "display_name": "Python 3 (ipykernel)",
   "language": "python",
   "name": "python3"
  },
  "language_info": {
   "codemirror_mode": {
    "name": "ipython",
    "version": 3
   },
   "file_extension": ".py",
   "mimetype": "text/x-python",
   "name": "python",
   "nbconvert_exporter": "python",
   "pygments_lexer": "ipython3",
   "version": "3.12.5"
  }
 },
 "nbformat": 4,
 "nbformat_minor": 5
}
